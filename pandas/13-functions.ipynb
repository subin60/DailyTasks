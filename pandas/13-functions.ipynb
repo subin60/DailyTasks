{
 "cells": [
  {
   "cell_type": "markdown",
   "metadata": {
    "id": "m1F11KQNKhZk"
   },
   "source": [
    "# Functions"
   ]
  },
  {
   "cell_type": "markdown",
   "metadata": {
    "id": "9uPHy4qZKhZo"
   },
   "source": [
    "## 1.&nbsp; Defining a function:\n",
    "\n",
    "Creating a function is super easy. Just follow these steps:\n",
    "\n",
    "- Start with the `def` statment.\n",
    "- Give your function a name and open parentheses.\n",
    "- Optional: write the names of your function's arguments between the parentheses.\n",
    "- Write the code that performs whatever you want to do between parentheses.\n",
    "\n",
    "Below, we define a function to divide two numbers:"
   ]
  },
  {
   "cell_type": "code",
   "execution_count": null,
   "metadata": {
    "id": "wrZ5ejWoKhZo"
   },
   "outputs": [],
   "source": [
    "def division_func(numerator, denominator):\n",
    "    res = numerator / denominator\n",
    "    return res"
   ]
  },
  {
   "cell_type": "markdown",
   "metadata": {
    "id": "2Fcpl592KhZp"
   },
   "source": [
    "## 2.&nbsp; Calling the function\n",
    "\n",
    "Unless specified otherwise, arguments are passed in order"
   ]
  },
  {
   "cell_type": "code",
   "execution_count": null,
   "metadata": {
    "colab": {
     "base_uri": "https://localhost:8080/"
    },
    "executionInfo": {
     "elapsed": 28,
     "status": "ok",
     "timestamp": 1675674265528,
     "user": {
      "displayName": "Ben Elvin",
      "userId": "09111547648527423041"
     },
     "user_tz": -60
    },
    "id": "qhAhmko3KhZq",
    "outputId": "d3b658e6-ca13-4d9a-da7d-6a20e0ebcc18"
   },
   "outputs": [
    {
     "data": {
      "text/plain": [
       "0.5"
      ]
     },
     "execution_count": 2,
     "metadata": {},
     "output_type": "execute_result"
    }
   ],
   "source": [
    "division_func(2, 4)"
   ]
  },
  {
   "cell_type": "markdown",
   "metadata": {
    "id": "iIpAkjWjKhZr"
   },
   "source": [
    "You can switch the order of the arguments by being explicit with them:"
   ]
  },
  {
   "cell_type": "code",
   "execution_count": null,
   "metadata": {
    "colab": {
     "base_uri": "https://localhost:8080/"
    },
    "executionInfo": {
     "elapsed": 278,
     "status": "ok",
     "timestamp": 1675674415396,
     "user": {
      "displayName": "Ben Elvin",
      "userId": "09111547648527423041"
     },
     "user_tz": -60
    },
    "id": "5ad_YFZqKhZr",
    "outputId": "19d666f4-0be6-49de-f043-29ca8835928d"
   },
   "outputs": [
    {
     "data": {
      "text/plain": [
       "2.0"
      ]
     },
     "execution_count": 3,
     "metadata": {},
     "output_type": "execute_result"
    }
   ],
   "source": [
    "division_func(numerator=4, \n",
    "              denominator=2)"
   ]
  },
  {
   "cell_type": "code",
   "execution_count": null,
   "metadata": {
    "colab": {
     "base_uri": "https://localhost:8080/"
    },
    "executionInfo": {
     "elapsed": 385,
     "status": "ok",
     "timestamp": 1675674419118,
     "user": {
      "displayName": "Ben Elvin",
      "userId": "09111547648527423041"
     },
     "user_tz": -60
    },
    "id": "u_PVtIyTKhZs",
    "outputId": "d477192d-4c78-4e3a-9210-659db4026f24"
   },
   "outputs": [
    {
     "data": {
      "text/plain": [
       "0.5"
      ]
     },
     "execution_count": 4,
     "metadata": {},
     "output_type": "execute_result"
    }
   ],
   "source": [
    "division_func(denominator=4, \n",
    "              numerator=2)"
   ]
  },
  {
   "cell_type": "markdown",
   "metadata": {
    "id": "3OiLXfStKhZs"
   },
   "source": [
    "It might be ugly, but you can be explicit only with some of the arguments..."
   ]
  },
  {
   "cell_type": "code",
   "execution_count": null,
   "metadata": {
    "colab": {
     "base_uri": "https://localhost:8080/"
    },
    "executionInfo": {
     "elapsed": 693,
     "status": "ok",
     "timestamp": 1675674441270,
     "user": {
      "displayName": "Ben Elvin",
      "userId": "09111547648527423041"
     },
     "user_tz": -60
    },
    "id": "3qa3Dw99KhZt",
    "outputId": "cbc72d8b-004b-49ff-c250-60b5e6b79337"
   },
   "outputs": [
    {
     "data": {
      "text/plain": [
       "2.0"
      ]
     },
     "execution_count": 5,
     "metadata": {},
     "output_type": "execute_result"
    }
   ],
   "source": [
    "division_func(4, denominator=2)"
   ]
  },
  {
   "cell_type": "markdown",
   "metadata": {
    "id": "EXliPEymKhZt"
   },
   "source": [
    "Seting a default value for an argument is possible:"
   ]
  },
  {
   "cell_type": "code",
   "execution_count": null,
   "metadata": {
    "id": "L_X5QkjTKhZt"
   },
   "outputs": [],
   "source": [
    "def division_func(numerator=4, denominator=2):\n",
    "    res = numerator / denominator\n",
    "    return res"
   ]
  },
  {
   "cell_type": "markdown",
   "metadata": {
    "id": "RtQqAP44KhZt"
   },
   "source": [
    "Whenever **all** arguments of a function have default values, you can call it without specifying them:"
   ]
  },
  {
   "cell_type": "code",
   "execution_count": null,
   "metadata": {
    "colab": {
     "base_uri": "https://localhost:8080/"
    },
    "executionInfo": {
     "elapsed": 737,
     "status": "ok",
     "timestamp": 1675674499131,
     "user": {
      "displayName": "Ben Elvin",
      "userId": "09111547648527423041"
     },
     "user_tz": -60
    },
    "id": "6rvCcv1KKhZt",
    "outputId": "82f1109e-cd3c-4fd3-e83f-69a09a4d20c4"
   },
   "outputs": [
    {
     "data": {
      "text/plain": [
       "2.0"
      ]
     },
     "execution_count": 7,
     "metadata": {},
     "output_type": "execute_result"
    }
   ],
   "source": [
    "division_func()"
   ]
  },
  {
   "cell_type": "markdown",
   "metadata": {
    "id": "EEXCDtiCKhZu"
   },
   "source": [
    "Arguments are not restricted to an object type (we never declare the types of variables, arguments or return values)"
   ]
  },
  {
   "cell_type": "code",
   "execution_count": null,
   "metadata": {
    "id": "6haAmr_QKhZu"
   },
   "outputs": [],
   "source": [
    "def addition_func(element1=4, element2=2):\n",
    "    res = element1 + element2\n",
    "    return res"
   ]
  },
  {
   "cell_type": "code",
   "execution_count": null,
   "metadata": {
    "colab": {
     "base_uri": "https://localhost:8080/"
    },
    "executionInfo": {
     "elapsed": 285,
     "status": "ok",
     "timestamp": 1675674547261,
     "user": {
      "displayName": "Ben Elvin",
      "userId": "09111547648527423041"
     },
     "user_tz": -60
    },
    "id": "NXQ_-qkvKhZu",
    "outputId": "33089900-ffd5-480d-9015-a9f8a9749357"
   },
   "outputs": [
    {
     "data": {
      "text/plain": [
       "6"
      ]
     },
     "execution_count": 9,
     "metadata": {},
     "output_type": "execute_result"
    }
   ],
   "source": [
    "addition_func(2, 4)"
   ]
  },
  {
   "cell_type": "code",
   "execution_count": null,
   "metadata": {
    "colab": {
     "base_uri": "https://localhost:8080/",
     "height": 35
    },
    "executionInfo": {
     "elapsed": 322,
     "status": "ok",
     "timestamp": 1675674549317,
     "user": {
      "displayName": "Ben Elvin",
      "userId": "09111547648527423041"
     },
     "user_tz": -60
    },
    "id": "_p1kNUH8KhZu",
    "outputId": "83ea542e-366f-4353-9b68-33d39c707373"
   },
   "outputs": [
    {
     "data": {
      "application/vnd.google.colaboratory.intrinsic+json": {
       "type": "string"
      },
      "text/plain": [
       "'hellothere'"
      ]
     },
     "execution_count": 10,
     "metadata": {},
     "output_type": "execute_result"
    }
   ],
   "source": [
    "addition_func(\"hello\", \"there\")"
   ]
  },
  {
   "cell_type": "markdown",
   "metadata": {
    "id": "7Xemr03MKhZu"
   },
   "source": [
    "What if we really want to constrain this `addition_func` to only admit integers?"
   ]
  },
  {
   "cell_type": "markdown",
   "metadata": {
    "id": "Gbc_le89KhZv"
   },
   "source": [
    "Option 1: try to coerce inputs to integers:"
   ]
  },
  {
   "cell_type": "code",
   "execution_count": null,
   "metadata": {
    "id": "nU0zcPrlKhZv"
   },
   "outputs": [],
   "source": [
    "def addition_func(element1=4, element2=2):\n",
    "    return int(element1)+int(element2)"
   ]
  },
  {
   "cell_type": "markdown",
   "metadata": {
    "id": "bPSv7X9VKhZv"
   },
   "source": [
    "Option 2: check for the `type` of the inputs:"
   ]
  },
  {
   "cell_type": "code",
   "execution_count": null,
   "metadata": {
    "colab": {
     "base_uri": "https://localhost:8080/"
    },
    "executionInfo": {
     "elapsed": 267,
     "status": "ok",
     "timestamp": 1675674585948,
     "user": {
      "displayName": "Ben Elvin",
      "userId": "09111547648527423041"
     },
     "user_tz": -60
    },
    "id": "LSc8IBLrKhZv",
    "outputId": "c69b135d-d74a-4fc4-ee02-455202b0032e"
   },
   "outputs": [
    {
     "name": "stdout",
     "output_type": "stream",
     "text": [
      "16\n",
      "Are you out of your mind? Only integers allowed!\n"
     ]
    }
   ],
   "source": [
    "def product_integers(x, y):\n",
    "    if type(x) == int and type(y) == int:\n",
    "            return(x*y)\n",
    "    else:\n",
    "        return \"Are you out of your mind? Only integers allowed!\"\n",
    "\n",
    "print(product_integers(8, 2))\n",
    "print(product_integers(4, \"a\"))"
   ]
  },
  {
   "cell_type": "markdown",
   "metadata": {
    "id": "JxC_91r8KhZv"
   },
   "source": [
    "Testing for types is not a common practice. Embrace python's flexibility!"
   ]
  },
  {
   "cell_type": "markdown",
   "metadata": {
    "id": "LhCesmQtKhZv"
   },
   "source": [
    "The `return` statement allows us to store the output of the function in a variable:"
   ]
  },
  {
   "cell_type": "code",
   "execution_count": null,
   "metadata": {
    "id": "YoMMy1k-KhZv"
   },
   "outputs": [],
   "source": [
    "def addition_func(element1=4, element2=2):\n",
    "    res = element1 + element2\n",
    "    return res"
   ]
  },
  {
   "cell_type": "code",
   "execution_count": null,
   "metadata": {
    "id": "xmUa0ed_KhZw"
   },
   "outputs": [],
   "source": [
    "a = addition_func(2,3)"
   ]
  },
  {
   "cell_type": "code",
   "execution_count": null,
   "metadata": {
    "colab": {
     "base_uri": "https://localhost:8080/"
    },
    "executionInfo": {
     "elapsed": 10,
     "status": "ok",
     "timestamp": 1675674627242,
     "user": {
      "displayName": "Ben Elvin",
      "userId": "09111547648527423041"
     },
     "user_tz": -60
    },
    "id": "joI6jYQNKhZw",
    "outputId": "144a46da-cb02-4a66-c849-f967806bea02"
   },
   "outputs": [
    {
     "data": {
      "text/plain": [
       "5"
      ]
     },
     "execution_count": 15,
     "metadata": {},
     "output_type": "execute_result"
    }
   ],
   "source": [
    "a"
   ]
  },
  {
   "cell_type": "code",
   "execution_count": null,
   "metadata": {
    "colab": {
     "base_uri": "https://localhost:8080/"
    },
    "executionInfo": {
     "elapsed": 276,
     "status": "ok",
     "timestamp": 1675674676744,
     "user": {
      "displayName": "Ben Elvin",
      "userId": "09111547648527423041"
     },
     "user_tz": -60
    },
    "id": "9S92gKk0_lnx",
    "outputId": "5ae9add7-2ef9-4eb2-eee7-bdd774c5bce8"
   },
   "outputs": [
    {
     "data": {
      "text/plain": [
       "15"
      ]
     },
     "execution_count": 19,
     "metadata": {},
     "output_type": "execute_result"
    }
   ],
   "source": [
    "a + 10"
   ]
  },
  {
   "cell_type": "markdown",
   "metadata": {
    "id": "EUFzqfEFKhZw"
   },
   "source": [
    "What if we use print instead of return?"
   ]
  },
  {
   "cell_type": "code",
   "execution_count": null,
   "metadata": {
    "id": "Vr095lw4KhZw"
   },
   "outputs": [],
   "source": [
    "def addition_func(element1=4, element2=2):\n",
    "    res = element1 + element2\n",
    "    print(res)"
   ]
  },
  {
   "cell_type": "markdown",
   "metadata": {
    "id": "DQXcRO_-KhZw"
   },
   "source": [
    "It may look like the behaviour is the same... But the output gets printed when we are just trying to assign it to a variable:"
   ]
  },
  {
   "cell_type": "code",
   "execution_count": null,
   "metadata": {
    "colab": {
     "base_uri": "https://localhost:8080/"
    },
    "executionInfo": {
     "elapsed": 26,
     "status": "ok",
     "timestamp": 1675674631156,
     "user": {
      "displayName": "Ben Elvin",
      "userId": "09111547648527423041"
     },
     "user_tz": -60
    },
    "id": "KJvkF3iVKhZw",
    "outputId": "37dc8c72-fd33-44ff-8841-11f2e6f2f0b7"
   },
   "outputs": [
    {
     "name": "stdout",
     "output_type": "stream",
     "text": [
      "9\n"
     ]
    }
   ],
   "source": [
    "b = addition_func(1,8)"
   ]
  },
  {
   "cell_type": "markdown",
   "metadata": {
    "id": "9V_3oOWwKhZw"
   },
   "source": [
    "And the variable has not actually stored the output:"
   ]
  },
  {
   "cell_type": "code",
   "execution_count": null,
   "metadata": {
    "id": "yKvoNcd_KhZx"
   },
   "outputs": [],
   "source": [
    "b"
   ]
  },
  {
   "cell_type": "markdown",
   "metadata": {
    "id": "6j1pAfspKhZx"
   },
   "source": [
    "So, in general, use `return` in functions instead of `print()`!"
   ]
  },
  {
   "cell_type": "markdown",
   "metadata": {
    "id": "kQ-KBaxhKhZx"
   },
   "source": [
    "## 3.&nbsp; Exercises: "
   ]
  },
  {
   "cell_type": "markdown",
   "metadata": {
    "id": "Y6OVhUabKhZx"
   },
   "source": [
    "### Exercise 1:\n",
    "\n",
    "Build a function to filp coins. It should take as an argument how many coins to flip, and ouptut how many times the coin landed on heads.\n",
    "\n",
    "Hint: use the module `random` inside of your function!"
   ]
  },
  {
   "cell_type": "code",
   "execution_count": 1,
   "metadata": {
    "colab": {
     "base_uri": "https://localhost:8080/"
    },
    "executionInfo": {
     "elapsed": 6,
     "status": "ok",
     "timestamp": 1675679603610,
     "user": {
      "displayName": "Ben Elvin",
      "userId": "09111547648527423041"
     },
     "user_tz": -60
    },
    "id": "yOjFFzchKhZx",
    "outputId": "946d2ca9-ee92-4e26-a911-d80567ccb5e5"
   },
   "outputs": [
    {
     "name": "stdout",
     "output_type": "stream",
     "text": [
      "Number of Heads = 3\n",
      "Number of Tails = 5\n"
     ]
    }
   ],
   "source": [
    "\n",
    "\n",
    "import random\n",
    "\n",
    "def flip_coin(n):\n",
    "  coin = ['Head','Tail']\n",
    "  result = []\n",
    "  number_heads = 0\n",
    "  number_tails = 0\n",
    "\n",
    "  for i in range(0,n):\n",
    "    result.append(random.choice(coin))\n",
    "  #print(result)\n",
    "\n",
    "  for a in result:\n",
    "    if a == 'Head':\n",
    "      number_heads += 1\n",
    "    else:\n",
    "      number_tails += 1\n",
    "  \n",
    "  print('Number of Heads = '+ str(number_heads))\n",
    "  print('Number of Tails = '+ str(number_tails))\n",
    "\n",
    "\n",
    "\n",
    "flip_coin(8)"
   ]
  },
  {
   "cell_type": "code",
   "execution_count": 2,
   "metadata": {
    "executionInfo": {
     "elapsed": 53,
     "status": "ok",
     "timestamp": 1675679724309,
     "user": {
      "displayName": "Ben Elvin",
      "userId": "09111547648527423041"
     },
     "user_tz": -60
    },
    "id": "MhBrO5zjS1Lt"
   },
   "outputs": [],
   "source": [
    "r = 25"
   ]
  },
  {
   "cell_type": "code",
   "execution_count": 3,
   "metadata": {
    "colab": {
     "base_uri": "https://localhost:8080/"
    },
    "executionInfo": {
     "elapsed": 855,
     "status": "ok",
     "timestamp": 1675679737689,
     "user": {
      "displayName": "Ben Elvin",
      "userId": "09111547648527423041"
     },
     "user_tz": -60
    },
    "id": "OOU1cHnPS3Y-",
    "outputId": "a7697be7-7400-479c-e278-479439666b90"
   },
   "outputs": [
    {
     "data": {
      "text/plain": [
       "26"
      ]
     },
     "execution_count": 3,
     "metadata": {},
     "output_type": "execute_result"
    }
   ],
   "source": [
    "r = r + 1\n",
    "r"
   ]
  },
  {
   "cell_type": "code",
   "execution_count": 4,
   "metadata": {
    "executionInfo": {
     "elapsed": 9,
     "status": "ok",
     "timestamp": 1675679747518,
     "user": {
      "displayName": "Ben Elvin",
      "userId": "09111547648527423041"
     },
     "user_tz": -60
    },
    "id": "Y5WnuzqIS60-"
   },
   "outputs": [],
   "source": [
    "r += 1"
   ]
  },
  {
   "cell_type": "code",
   "execution_count": 5,
   "metadata": {
    "colab": {
     "base_uri": "https://localhost:8080/"
    },
    "executionInfo": {
     "elapsed": 605,
     "status": "ok",
     "timestamp": 1675679752619,
     "user": {
      "displayName": "Ben Elvin",
      "userId": "09111547648527423041"
     },
     "user_tz": -60
    },
    "id": "5AWedNSxS9Wb",
    "outputId": "1c80bedb-55e8-43fe-c102-e12a0f5d211e"
   },
   "outputs": [
    {
     "data": {
      "text/plain": [
       "27"
      ]
     },
     "execution_count": 5,
     "metadata": {},
     "output_type": "execute_result"
    }
   ],
   "source": [
    "r"
   ]
  },
  {
   "cell_type": "code",
   "execution_count": 8,
   "metadata": {
    "colab": {
     "base_uri": "https://localhost:8080/"
    },
    "executionInfo": {
     "elapsed": 395,
     "status": "ok",
     "timestamp": 1675679868937,
     "user": {
      "displayName": "Ben Elvin",
      "userId": "09111547648527423041"
     },
     "user_tz": -60
    },
    "id": "smoiwoJxTFI9",
    "outputId": "a1226ad3-c6e2-4e45-9057-0ee89c890949"
   },
   "outputs": [
    {
     "data": {
      "text/plain": [
       "5015"
      ]
     },
     "execution_count": 8,
     "metadata": {},
     "output_type": "execute_result"
    }
   ],
   "source": [
    "\n",
    "\n",
    "from random import randint\n",
    "\n",
    "def flip_coin(flips):\n",
    "  total=0\n",
    "  for flip in range(flips):\n",
    "    total+=randint(0,1)\n",
    "  return(total)  \n",
    "\n",
    "\n",
    "flip_coin(9999)"
   ]
  },
  {
   "cell_type": "markdown",
   "metadata": {
    "id": "JHbhGAAgKhZx"
   },
   "source": [
    "### Exercise 2:\n",
    "\n",
    "Build a function that takes as input a string and returns it reversed\n",
    "\n",
    "Extra challenge: try not to use any built in Python string method!"
   ]
  },
  {
   "cell_type": "code",
   "execution_count": 9,
   "metadata": {
    "colab": {
     "base_uri": "https://localhost:8080/",
     "height": 36
    },
    "executionInfo": {
     "elapsed": 30,
     "status": "ok",
     "timestamp": 1675680002526,
     "user": {
      "displayName": "Ben Elvin",
      "userId": "09111547648527423041"
     },
     "user_tz": -60
    },
    "id": "CyVfhIvuKhZx",
    "outputId": "63e291da-4cfe-4f93-e63c-0d3c12f6cec2"
   },
   "outputs": [
    {
     "data": {
      "application/vnd.google.colaboratory.intrinsic+json": {
       "type": "string"
      },
      "text/plain": [
       "'racecaR'"
      ]
     },
     "execution_count": 9,
     "metadata": {},
     "output_type": "execute_result"
    }
   ],
   "source": [
    "# Dave\n",
    "\n",
    "def string_reverse(string):\n",
    "    s1 = (string [::-1])\n",
    "    return s1\n",
    "\n",
    "string_reverse('Racecar')"
   ]
  },
  {
   "cell_type": "code",
   "execution_count": null,
   "metadata": {
    "colab": {
     "base_uri": "https://localhost:8080/"
    },
    "executionInfo": {
     "elapsed": 645,
     "status": "ok",
     "timestamp": 1675680063244,
     "user": {
      "displayName": "Ben Elvin",
      "userId": "09111547648527423041"
     },
     "user_tz": -60
    },
    "id": "1LHVZTjaUGST",
    "outputId": "aae07cbd-204a-475b-c56d-e221ee418f91",
    "scrolled": true
   },
   "outputs": [],
   "source": []
  },
  {
   "cell_type": "markdown",
   "metadata": {
    "id": "YBu20Uc5KhZx"
   },
   "source": [
    "Test your function:"
   ]
  },
  {
   "cell_type": "code",
   "execution_count": 11,
   "metadata": {
    "colab": {
     "base_uri": "https://localhost:8080/",
     "height": 36
    },
    "executionInfo": {
     "elapsed": 412,
     "status": "ok",
     "timestamp": 1675680122162,
     "user": {
      "displayName": "Ben Elvin",
      "userId": "09111547648527423041"
     },
     "user_tz": -60
    },
    "id": "aCvx-pxxKhZx",
    "outputId": "e123db43-3c53-4853-c930-5aa1716c7e63"
   },
   "outputs": [
    {
     "data": {
      "application/vnd.google.colaboratory.intrinsic+json": {
       "type": "string"
      },
      "text/plain": [
       "'arbadacarbA'"
      ]
     },
     "execution_count": 11,
     "metadata": {},
     "output_type": "execute_result"
    }
   ],
   "source": [
    "string_reverse(\"Abracadabra\")\n",
    "\n",
    "# expected output: 'arbadacarbA'"
   ]
  },
  {
   "cell_type": "code",
   "execution_count": 14,
   "metadata": {
    "colab": {
     "base_uri": "https://localhost:8080/"
    },
    "executionInfo": {
     "elapsed": 406,
     "status": "ok",
     "timestamp": 1675680823152,
     "user": {
      "displayName": "Ben Elvin",
      "userId": "09111547648527423041"
     },
     "user_tz": -60
    },
    "id": "ejXDnQ9xXCSk",
    "outputId": "a5a8aebb-bdad-4671-d806-337a7c21308f"
   },
   "outputs": [
    {
     "data": {
      "text/plain": [
       "13"
      ]
     },
     "execution_count": 14,
     "metadata": {},
     "output_type": "execute_result"
    }
   ],
   "source": [
    "import random as rand\n",
    "\n",
    "def coin_flip(flips):\n",
    "    r1 = rand.gauss(mu=(flips/2), sigma=(flips/4))\n",
    "    res = int(r1)\n",
    "    return res\n",
    "\n",
    "coin_flip(20)"
   ]
  },
  {
   "cell_type": "markdown",
   "metadata": {
    "id": "58sWtafMKhZy"
   },
   "source": [
    "### Exercise 3:\n",
    "\n",
    "Build a function to return the intersection of two sets\n",
    "\n",
    "Find out more about Python sets here: https://www.w3schools.com/python/python_sets.asp "
   ]
  },
  {
   "cell_type": "code",
   "execution_count": 12,
   "metadata": {
    "executionInfo": {
     "elapsed": 379,
     "status": "ok",
     "timestamp": 1675680206020,
     "user": {
      "displayName": "Ben Elvin",
      "userId": "09111547648527423041"
     },
     "user_tz": -60
    },
    "id": "nkopgxA4KhZy"
   },
   "outputs": [],
   "source": [
    "\n",
    "def intersect(I1, I2):\n",
    "    return set(I1).intersection(I2)"
   ]
  },
  {
   "cell_type": "code",
   "execution_count": 13,
   "metadata": {
    "colab": {
     "base_uri": "https://localhost:8080/"
    },
    "executionInfo": {
     "elapsed": 478,
     "status": "ok",
     "timestamp": 1675680242664,
     "user": {
      "displayName": "Ben Elvin",
      "userId": "09111547648527423041"
     },
     "user_tz": -60
    },
    "id": "AgUuh8IvUyCc",
    "outputId": "d397789e-c1ba-4490-a343-309576924da8"
   },
   "outputs": [
    {
     "name": "stdout",
     "output_type": "stream",
     "text": [
      "{1, 2, 3, 5, 13}\n"
     ]
    }
   ],
   "source": [
    "\n",
    "\n",
    "small_primes = (1, 2, 3, 5, 7, 11, 13)\n",
    "fibonacci = [0, 1, 1, 2, 3, 5, 8, 13]\n",
    "\n",
    "def intersect(small_primes, fibonacci):\n",
    "  intersection = []\n",
    "  for i in small_primes:\n",
    "    if i in fibonacci:\n",
    "      intersection.append(i)\n",
    "  print(set(intersection))\n",
    "\n",
    "intersect(small_primes, fibonacci)"
   ]
  },
  {
   "cell_type": "markdown",
   "metadata": {
    "id": "ReLdFDG7Ux5l"
   },
   "source": []
  },
  {
   "cell_type": "code",
   "execution_count": null,
   "metadata": {
    "id": "5nEi6xnNKhZy"
   },
   "outputs": [],
   "source": [
    "# test your function\n",
    "small_primes = (1, 2, 3, 5, 7, 11, 13)\n",
    "fibonacci = [0, 1, 1, 2, 3, 5, 8, 13]\n",
    "\n",
    "intersect(small_primes, fibonacci)\n",
    "\n",
    "# expected output: {1, 2, 3, 5, 13}"
   ]
  },
  {
   "cell_type": "code",
   "execution_count": null,
   "metadata": {
    "id": "6Ffq6J8uKhZy"
   },
   "outputs": [],
   "source": [
    "# Should work with strings as well\n",
    "plane = \"plane\"\n",
    "planet = \"planet\"\n",
    "\n",
    "intersect(plane, planet)\n",
    "# expected output: {\"a\", \"e\", \"l\", \"n\", \"p\"}"
   ]
  },
  {
   "cell_type": "markdown",
   "metadata": {
    "id": "liOTrexHKhZy"
   },
   "source": [
    "## 4.&nbsp; [BONUS] Modules\n",
    "\n",
    "You can save a notebook as Python script (a file with the `.py` extension). Then, it automatically becomes a Python \"module\". These modules can be imported the same way you import `pandas`, and then you can access any functions within them.\n",
    "\n",
    "This allows you to keep your functions in a clean and isolated place, where they will be less prone to getting \"corrupted\". Your notebook will also be cleaner without all the function definitions.\n",
    "\n",
    "Using modules is easier when working locally (with Jupyter Lab, for example). If your `.py` file and your notebook are in the same folder, you can simply call `import my-module-name` from the notebook. With Google Colab, there's an extra step involved. Follow the instructions in [this video](https://www.youtube.com/watch?v=YP6APKLRf58).\n",
    "\n",
    "**Exercise:** Convert the function from the previous exercise into a module and import it from another notebook."
   ]
  },
  {
   "cell_type": "code",
   "execution_count": null,
   "metadata": {
    "id": "vLtY5Q0dKhZy"
   },
   "outputs": [],
   "source": [
    "from google.colab import files\n",
    "files.upload()"
   ]
  },
  {
   "cell_type": "markdown",
   "metadata": {
    "id": "AfD9in0JKhZy"
   },
   "source": [
    "## 5.&nbsp; [BONUS] Scopes\n",
    "\n",
    "Let's look again at the `addition function`:"
   ]
  },
  {
   "cell_type": "code",
   "execution_count": null,
   "metadata": {
    "id": "zEpiyQxKKhZy"
   },
   "outputs": [],
   "source": [
    "def addition_func(element1=4, element2=2):\n",
    "    res = element1 + element2\n",
    "    return res"
   ]
  },
  {
   "cell_type": "markdown",
   "metadata": {
    "id": "SUAowLTbKhZz"
   },
   "source": [
    "#### where's the variable `res`?\n",
    "\n",
    "It is a local variable: a name that is visible only to code inside the function def and that exists only while the function runs. \n",
    "\n",
    "When you use a name in a program, Python creates, changes, or looks up the name in what is known as a namespace —a place where names live. When we talk about the search for a name’s value in relation to code, the term scope refers to a namespace: that is, the location of a name’s assignment in your source code determines the scope of the name’s visibility to your code.\n",
    "\n",
    "The place where you assign a name in your source code determines the namespace it will live in, and hence its scope of visibility.\n",
    "\n",
    "- Names assigned inside a def can only be seen by the code within that def. You cannot even refer to such names from outside the function.\n",
    "\n",
    "- Names assigned inside a def do not clash with variables outside the def, even if the same names are used elsewhere. A name X assigned outside a given def (i.e., in a different def or at the top level of a module file) is a completely different variable from a name X assigned inside that def."
   ]
  },
  {
   "cell_type": "code",
   "execution_count": null,
   "metadata": {
    "id": "Uofb9BxuKhZz"
   },
   "outputs": [],
   "source": [
    "x = 1990\n",
    "\n",
    "def func():\n",
    "    x = 2020\n",
    "    print(x)"
   ]
  },
  {
   "cell_type": "code",
   "execution_count": null,
   "metadata": {
    "id": "8MWEcjOFKhZz"
   },
   "outputs": [],
   "source": [
    "func()"
   ]
  },
  {
   "cell_type": "code",
   "execution_count": null,
   "metadata": {
    "id": "oIGgQH4zKhZz"
   },
   "outputs": [],
   "source": [
    "x"
   ]
  },
  {
   "cell_type": "markdown",
   "metadata": {
    "id": "941hAmYzKhZ0"
   },
   "source": [
    "- If you need to assign a name that lives at the top level of the module enclosing the function, you can do so by declaring it in a global statement inside the function. \n",
    "\n",
    "- If you need to assign a name that lives in an enclosing def, as of Python 3.X you can do so by declaring it in a nonlocal statement."
   ]
  },
  {
   "cell_type": "markdown",
   "metadata": {
    "id": "D3x5_79tKhZ0"
   },
   "source": [
    "Type of assignment within a function classifies a name as local. This includes = statements, module names in import, function names in def, function argument names, and so on. If you assign a name in any way within a def, it will become a local to that function by default.\n",
    "\n",
    "In-place changes to objects do not classify names as locals; only actual name assignments do. \n",
    "\n",
    "For instance, if the name L is assigned to a list at the top level of a module, a statement L = X within a function will classify L as a local, but L.append(X) will not. In the latter case, we are changing the list object that L references, not L itself—L is found in the global scope as usual, and Python happily modifies it without requiring a global (or nonlocal) declaration. As usual, it helps to keep the distinction between names and objects clear: changing an object is not an assignment to a name."
   ]
  },
  {
   "cell_type": "code",
   "execution_count": null,
   "metadata": {
    "id": "tEjCdIPJKhZ0"
   },
   "outputs": [],
   "source": [
    "L = [1, 2, 3]\n",
    "\n",
    "def append4():\n",
    "    L.append(4)\n",
    "    return L\n",
    "\n",
    "append4()"
   ]
  },
  {
   "cell_type": "code",
   "execution_count": null,
   "metadata": {
    "id": "38i3oE9JKhZ1"
   },
   "outputs": [],
   "source": [
    "L"
   ]
  },
  {
   "cell_type": "code",
   "execution_count": null,
   "metadata": {
    "id": "V0STK6hgKhZ1"
   },
   "outputs": [],
   "source": [
    "L = [1, 2, 3]\n",
    "\n",
    "def transform_L_into_X():\n",
    "    X = \"This is X\"\n",
    "    L = X\n",
    "    return L\n",
    "\n",
    "transform_L_into_X()"
   ]
  },
  {
   "cell_type": "code",
   "execution_count": null,
   "metadata": {
    "id": "QpNyLq1sKhZ1"
   },
   "outputs": [],
   "source": [
    "L"
   ]
  },
  {
   "cell_type": "markdown",
   "metadata": {
    "id": "F2EgGqYwKhZ1"
   },
   "source": [
    "#### The global statement"
   ]
  },
  {
   "cell_type": "code",
   "execution_count": null,
   "metadata": {
    "id": "b0V8mYwbKhZ1"
   },
   "outputs": [],
   "source": [
    "X = 88                         # Global X\n",
    "\n",
    "def func():\n",
    "    global X\n",
    "    X = 99                     # Global X: outside def\n",
    "    print(X)\n",
    "\n",
    "func()"
   ]
  },
  {
   "cell_type": "code",
   "execution_count": null,
   "metadata": {
    "id": "uWB7RXzNKhZ1"
   },
   "outputs": [],
   "source": [
    "X"
   ]
  },
  {
   "cell_type": "markdown",
   "metadata": {
    "id": "dk4boxILKhZ2"
   },
   "source": [
    "Minimize globals! What is the value of x here? It depends on where you ask during running time, and that's confusing and prone to errors."
   ]
  },
  {
   "cell_type": "markdown",
   "metadata": {
    "id": "uC-rBzxKKhZ2"
   },
   "source": [
    "Some more tips for using functions:\n",
    "\n",
    "- each function should have a single, unified purpose.\n",
    "\n",
    "- each function should be relatively small"
   ]
  }
 ],
 "metadata": {
  "colab": {
   "collapsed_sections": [
    "kQ-KBaxhKhZx"
   ],
   "provenance": [
    {
     "file_id": "1IHbnHJzjieT-w8K9LGGCoAviayhRqV-v",
     "timestamp": 1675674072700
    }
   ]
  },
  "kernelspec": {
   "display_name": "Python 3 (ipykernel)",
   "language": "python",
   "name": "python3"
  },
  "language_info": {
   "codemirror_mode": {
    "name": "ipython",
    "version": 3
   },
   "file_extension": ".py",
   "mimetype": "text/x-python",
   "name": "python",
   "nbconvert_exporter": "python",
   "pygments_lexer": "ipython3",
   "version": "3.9.13"
  },
  "toc": {
   "base_numbering": 1,
   "nav_menu": {},
   "number_sections": true,
   "sideBar": true,
   "skip_h1_title": false,
   "title_cell": "Table of Contents",
   "title_sidebar": "Contents",
   "toc_cell": false,
   "toc_position": {},
   "toc_section_display": true,
   "toc_window_display": false
  },
  "varInspector": {
   "cols": {
    "lenName": 16,
    "lenType": 16,
    "lenVar": 40
   },
   "kernels_config": {
    "python": {
     "delete_cmd_postfix": "",
     "delete_cmd_prefix": "del ",
     "library": "var_list.py",
     "varRefreshCmd": "print(var_dic_list())"
    },
    "r": {
     "delete_cmd_postfix": ") ",
     "delete_cmd_prefix": "rm(",
     "library": "var_list.r",
     "varRefreshCmd": "cat(var_dic_list()) "
    }
   },
   "types_to_exclude": [
    "module",
    "function",
    "builtin_function_or_method",
    "instance",
    "_Feature"
   ],
   "window_display": false
  }
 },
 "nbformat": 4,
 "nbformat_minor": 1
}
